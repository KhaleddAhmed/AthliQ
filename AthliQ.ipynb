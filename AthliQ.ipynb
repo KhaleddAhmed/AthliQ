{
 "cells": [
  {
   "cell_type": "code",
   "execution_count": 1,
   "metadata": {
    "colab": {
     "base_uri": "https://localhost:8080/"
    },
    "id": "XKoUPpHovsyV",
    "outputId": "77a143c2-1d6f-4198-8c56-05a3eb4da715"
   },
   "outputs": [
    {
     "name": "stdout",
     "output_type": "stream",
     "text": [
      "Requirement already satisfied: ultralytics in c:\\users\\hala mohamed\\anaconda3\\lib\\site-packages (8.3.50)\n",
      "Requirement already satisfied: flask in c:\\users\\hala mohamed\\anaconda3\\lib\\site-packages (2.2.2)\n",
      "Requirement already satisfied: opencv-python-headless in c:\\users\\hala mohamed\\anaconda3\\lib\\site-packages (4.11.0.86)\n",
      "Requirement already satisfied: psutil in c:\\users\\hala mohamed\\anaconda3\\lib\\site-packages (from ultralytics) (5.9.0)\n",
      "Requirement already satisfied: torch>=1.8.0 in c:\\users\\hala mohamed\\anaconda3\\lib\\site-packages (from ultralytics) (2.5.1)\n",
      "Requirement already satisfied: torchvision>=0.9.0 in c:\\users\\hala mohamed\\anaconda3\\lib\\site-packages (from ultralytics) (0.20.1)\n",
      "Requirement already satisfied: seaborn>=0.11.0 in c:\\users\\hala mohamed\\anaconda3\\lib\\site-packages (from ultralytics) (0.12.2)\n",
      "Requirement already satisfied: scipy>=1.4.1 in c:\\users\\hala mohamed\\anaconda3\\lib\\site-packages (from ultralytics) (1.10.0)\n",
      "Requirement already satisfied: ultralytics-thop>=2.0.0 in c:\\users\\hala mohamed\\anaconda3\\lib\\site-packages (from ultralytics) (2.0.13)\n",
      "Requirement already satisfied: matplotlib>=3.3.0 in c:\\users\\hala mohamed\\anaconda3\\lib\\site-packages (from ultralytics) (3.7.0)\n",
      "Requirement already satisfied: pyyaml>=5.3.1 in c:\\users\\hala mohamed\\anaconda3\\lib\\site-packages (from ultralytics) (6.0)\n",
      "Requirement already satisfied: numpy>=1.23.0 in c:\\users\\hala mohamed\\anaconda3\\lib\\site-packages (from ultralytics) (1.23.5)\n",
      "Requirement already satisfied: pandas>=1.1.4 in c:\\users\\hala mohamed\\anaconda3\\lib\\site-packages (from ultralytics) (1.5.3)\n",
      "Requirement already satisfied: requests>=2.23.0 in c:\\users\\hala mohamed\\anaconda3\\lib\\site-packages (from ultralytics) (2.28.1)\n",
      "Requirement already satisfied: tqdm>=4.64.0 in c:\\users\\hala mohamed\\anaconda3\\lib\\site-packages (from ultralytics) (4.64.1)\n",
      "Requirement already satisfied: opencv-python>=4.6.0 in c:\\users\\hala mohamed\\anaconda3\\lib\\site-packages (from ultralytics) (4.10.0.84)\n",
      "Requirement already satisfied: py-cpuinfo in c:\\users\\hala mohamed\\anaconda3\\lib\\site-packages (from ultralytics) (9.0.0)\n",
      "Requirement already satisfied: pillow>=7.1.2 in c:\\users\\hala mohamed\\anaconda3\\lib\\site-packages (from ultralytics) (9.4.0)\n",
      "Requirement already satisfied: Werkzeug>=2.2.2 in c:\\users\\hala mohamed\\anaconda3\\lib\\site-packages (from flask) (2.2.2)\n",
      "Requirement already satisfied: itsdangerous>=2.0 in c:\\users\\hala mohamed\\anaconda3\\lib\\site-packages (from flask) (2.0.1)\n",
      "Requirement already satisfied: click>=8.0 in c:\\users\\hala mohamed\\anaconda3\\lib\\site-packages (from flask) (8.0.4)\n",
      "Requirement already satisfied: Jinja2>=3.0 in c:\\users\\hala mohamed\\anaconda3\\lib\\site-packages (from flask) (3.1.2)\n",
      "Requirement already satisfied: colorama in c:\\users\\hala mohamed\\anaconda3\\lib\\site-packages (from click>=8.0->flask) (0.4.6)\n",
      "Requirement already satisfied: MarkupSafe>=2.0 in c:\\users\\hala mohamed\\anaconda3\\lib\\site-packages (from Jinja2>=3.0->flask) (2.1.1)\n",
      "Requirement already satisfied: python-dateutil>=2.7 in c:\\users\\hala mohamed\\anaconda3\\lib\\site-packages (from matplotlib>=3.3.0->ultralytics) (2.8.2)\n",
      "Requirement already satisfied: kiwisolver>=1.0.1 in c:\\users\\hala mohamed\\anaconda3\\lib\\site-packages (from matplotlib>=3.3.0->ultralytics) (1.4.4)\n",
      "Requirement already satisfied: pyparsing>=2.3.1 in c:\\users\\hala mohamed\\anaconda3\\lib\\site-packages (from matplotlib>=3.3.0->ultralytics) (3.0.9)\n",
      "Requirement already satisfied: packaging>=20.0 in c:\\users\\hala mohamed\\anaconda3\\lib\\site-packages (from matplotlib>=3.3.0->ultralytics) (22.0)\n",
      "Requirement already satisfied: contourpy>=1.0.1 in c:\\users\\hala mohamed\\anaconda3\\lib\\site-packages (from matplotlib>=3.3.0->ultralytics) (1.0.5)\n",
      "Requirement already satisfied: cycler>=0.10 in c:\\users\\hala mohamed\\anaconda3\\lib\\site-packages (from matplotlib>=3.3.0->ultralytics) (0.11.0)\n",
      "Requirement already satisfied: fonttools>=4.22.0 in c:\\users\\hala mohamed\\anaconda3\\lib\\site-packages (from matplotlib>=3.3.0->ultralytics) (4.25.0)\n",
      "Requirement already satisfied: pytz>=2020.1 in c:\\users\\hala mohamed\\anaconda3\\lib\\site-packages (from pandas>=1.1.4->ultralytics) (2022.7)\n",
      "Requirement already satisfied: idna<4,>=2.5 in c:\\users\\hala mohamed\\anaconda3\\lib\\site-packages (from requests>=2.23.0->ultralytics) (3.4)\n",
      "Requirement already satisfied: charset-normalizer<3,>=2 in c:\\users\\hala mohamed\\anaconda3\\lib\\site-packages (from requests>=2.23.0->ultralytics) (2.0.4)\n",
      "Requirement already satisfied: certifi>=2017.4.17 in c:\\users\\hala mohamed\\anaconda3\\lib\\site-packages (from requests>=2.23.0->ultralytics) (2022.12.7)\n",
      "Requirement already satisfied: urllib3<1.27,>=1.21.1 in c:\\users\\hala mohamed\\anaconda3\\lib\\site-packages (from requests>=2.23.0->ultralytics) (1.26.14)\n",
      "Requirement already satisfied: filelock in c:\\users\\hala mohamed\\anaconda3\\lib\\site-packages (from torch>=1.8.0->ultralytics) (3.9.0)\n",
      "Requirement already satisfied: typing-extensions>=4.8.0 in c:\\users\\hala mohamed\\anaconda3\\lib\\site-packages (from torch>=1.8.0->ultralytics) (4.12.2)\n",
      "Requirement already satisfied: networkx in c:\\users\\hala mohamed\\anaconda3\\lib\\site-packages (from torch>=1.8.0->ultralytics) (2.8.4)\n",
      "Requirement already satisfied: fsspec in c:\\users\\hala mohamed\\anaconda3\\lib\\site-packages (from torch>=1.8.0->ultralytics) (2022.11.0)\n",
      "Requirement already satisfied: sympy==1.13.1 in c:\\users\\hala mohamed\\anaconda3\\lib\\site-packages (from torch>=1.8.0->ultralytics) (1.13.1)\n",
      "Requirement already satisfied: mpmath<1.4,>=1.1.0 in c:\\users\\hala mohamed\\anaconda3\\lib\\site-packages (from sympy==1.13.1->torch>=1.8.0->ultralytics) (1.2.1)\n",
      "Requirement already satisfied: six>=1.5 in c:\\users\\hala mohamed\\anaconda3\\lib\\site-packages (from python-dateutil>=2.7->matplotlib>=3.3.0->ultralytics) (1.16.0)\n",
      "Note: you may need to restart the kernel to use updated packages.\n"
     ]
    }
   ],
   "source": [
    "pip install ultralytics flask opencv-python-headless"
   ]
  },
  {
   "cell_type": "code",
   "execution_count": 2,
   "metadata": {},
   "outputs": [],
   "source": [
    "from flask import Flask, request, jsonify\n",
    "from ultralytics import YOLO\n",
    "import cv2\n",
    "import numpy as np\n",
    "import os\n",
    "\n",
    "app = Flask(__name__)"
   ]
  },
  {
   "cell_type": "code",
   "execution_count": 3,
   "metadata": {},
   "outputs": [],
   "source": [
    "# Load model once\n",
    "model = YOLO(\"yolov8n-pose.pt\")"
   ]
  },
  {
   "cell_type": "code",
   "execution_count": 4,
   "metadata": {
    "id": "E264jbiMw7a8"
   },
   "outputs": [],
   "source": [
    "def check_limb_symmetry(keypoints, threshold=20):\n",
    "    \"\"\"\n",
    "    Detects limb asymmetry in a front view image.\n",
    "    Returns a dictionary with has_problem flag.\n",
    "    \"\"\"\n",
    "\n",
    "    LEFT = [5, 7, 9, 11, 13, 15]   # shoulder, elbow, wrist, hip, knee, ankle\n",
    "    RIGHT = [6, 8, 10, 12, 14, 16]\n",
    "\n",
    "    try:\n",
    "        max_diff = 0\n",
    "        for l_idx, r_idx in zip(LEFT, RIGHT):\n",
    "            left_y = keypoints[l_idx][1]\n",
    "            right_y = keypoints[r_idx][1]\n",
    "            diff = abs(left_y - right_y)\n",
    "            max_diff = max(max_diff, diff)\n",
    "\n",
    "            if diff > threshold:\n",
    "                return {\n",
    "                    \"max_difference_px\": max_diff,\n",
    "                    \"has_problem\": True  # Asymmetry detected\n",
    "                }\n",
    "\n",
    "        return {\n",
    "            #\"max_difference_px\": max_diff,\n",
    "            \"has_problem\": False  # Symmetry is OK\n",
    "        }\n",
    "\n",
    "    except Exception as e:\n",
    "        return {\n",
    "            \"error\": str(e),\n",
    "            \"has_problem\": True  # Treat errors as a problem\n",
    "        }\n"
   ]
  },
  {
   "cell_type": "code",
   "execution_count": 5,
   "metadata": {
    "id": "9elUJHsccEoa"
   },
   "outputs": [],
   "source": [
    "def check_kyphosis(keypoints):\n",
    "    \"\"\"\n",
    "    Detects kyphosis from a side-view image using keypoints (shoulders, hips, head).\n",
    "\n",
    "    Customizes the kyphosis threshold based on proportions — no ML required.\n",
    "    \"\"\"\n",
    "    import math\n",
    "\n",
    "    try:\n",
    "        # Step 1: Extract key anatomical points\n",
    "        shoulder = (\n",
    "            (keypoints[5][0] + keypoints[6][0]) / 2,\n",
    "            (keypoints[5][1] + keypoints[6][1]) / 2,\n",
    "        )\n",
    "        hip = (\n",
    "            (keypoints[11][0] + keypoints[12][0]) / 2,\n",
    "            (keypoints[11][1] + keypoints[12][1]) / 2,\n",
    "        )\n",
    "        head = keypoints[0]\n",
    "\n",
    "        # Step 2: Define vectors\n",
    "        vec_back = (shoulder[0] - hip[0], shoulder[1] - hip[1])      # spine\n",
    "        vec_neck = (head[0] - shoulder[0], head[1] - shoulder[1])    # head angle\n",
    "\n",
    "        # Step 3: Compute angle between spine and head\n",
    "        dot = vec_back[0]*vec_neck[0] + vec_back[1]*vec_neck[1]\n",
    "        norm_back = math.hypot(*vec_back)\n",
    "        norm_neck = math.hypot(*vec_neck)\n",
    "        cos_angle = dot / (norm_back * norm_neck + 1e-6)\n",
    "        angle_rad = math.acos(min(1.0, max(-1.0, cos_angle)))\n",
    "        acute_angle_deg = math.degrees(angle_rad)\n",
    "        back_angle_deg = 180 - acute_angle_deg  # open body angle\n",
    "\n",
    "        # Step 4: Ratio-based custom threshold\n",
    "        neck_to_back_ratio = norm_neck / (norm_back + 1e-6)\n",
    "        # Empirical adjustment: flatter backs need lower threshold\n",
    "        # Values tuned from example data\n",
    "        angle_threshold = 135 + (10 * (1 - min(neck_to_back_ratio, 1)))\n",
    "\n",
    "        has_problem = back_angle_deg < angle_threshold\n",
    "\n",
    "        return {\n",
    "            #\"back_angle_deg\": round(back_angle_deg, 2),\n",
    "            \"has_problem\": has_problem,\n",
    "            #\"alignment_status\": \"Possible kyphosis\" if has_problem else \"OK\",\n",
    "            #\"angle_threshold\": round(angle_threshold, 2),  # for debug\n",
    "            #\"neck_to_back_ratio\": round(neck_to_back_ratio, 2)  # for analysis\n",
    "        }\n",
    "\n",
    "    except Exception as e:\n",
    "        return {\n",
    "            \"has_problem\": True,\n",
    "            \"error\": str(e),\n",
    "            \"alignment_status\": \"Error processing keypoints\"\n",
    "        }\n"
   ]
  },
  {
   "cell_type": "code",
   "execution_count": 6,
   "metadata": {
    "id": "cmJOBV2rxgLT"
   },
   "outputs": [],
   "source": [
    "def analyze_pose(image_path, view='front'):\n",
    "    img = cv2.imread(image_path)\n",
    "    results = model(img)\n",
    "\n",
    "    if len(results[0].keypoints.xy) == 0:\n",
    "        return {\"error\": \"No person detected in image.\"}\n",
    "\n",
    "    keypoints = results[0].keypoints.xy[0].cpu().numpy().tolist()\n",
    "\n",
    "    if view == 'front':\n",
    "        return check_limb_symmetry(keypoints)\n",
    "    elif view == 'side':\n",
    "        return check_spine_alignment(keypoints)\n",
    "    else:\n",
    "        return {\"error\": \"Invalid view: choose 'front' or 'side'\"}"
   ]
  },
  {
   "cell_type": "code",
   "execution_count": 7,
   "metadata": {
    "colab": {
     "base_uri": "https://localhost:8080/"
    },
    "id": "TPtNSG7m2u0B",
    "outputId": "43fff481-4fa5-49e8-e393-97929a6a5acb",
    "scrolled": true
   },
   "outputs": [],
   "source": [
    "@app.route('/analyze', methods=['POST'])\n",
    "def analyze_images2():\n",
    "    try:\n",
    "        front_file = request.files['front_image']\n",
    "        side_file = request.files['side_image']\n",
    "\n",
    "        # Convert uploaded images to OpenCV format\n",
    "        front_np = np.frombuffer(front_file.read(), np.uint8)\n",
    "        front_img = cv2.imdecode(front_np, cv2.IMREAD_COLOR)\n",
    "\n",
    "        side_np = np.frombuffer(side_file.read(), np.uint8)\n",
    "        side_img = cv2.imdecode(side_np, cv2.IMREAD_COLOR)\n",
    "\n",
    "        # Run YOLO on both images\n",
    "        front_results = model(front_img)\n",
    "        side_results = model(side_img)\n",
    "\n",
    "        # Extract keypoints\n",
    "        front_keypoints = front_results[0].keypoints.xy[0].cpu().numpy().tolist()\n",
    "        side_keypoints = side_results[0].keypoints.xy[0].cpu().numpy().tolist()\n",
    "\n",
    "        front_analysis = check_limb_symmetry(front_keypoints)\n",
    "        side_analysis = check_kyphosis(side_keypoints)\n",
    "          \n",
    "        \n",
    "        # Determine final result\n",
    "        if front_analysis.get(\"has_problem\") or side_analysis.get(\"has_problem\"):\n",
    "            res = False\n",
    "        else:\n",
    "            res = True\n",
    "            \n",
    "        return jsonify({\n",
    "            \"status\": \"success\",\n",
    "            \n",
    "#             \"front_view\": front_analysis,\n",
    "#             \"side_view\": side_analysis\n",
    "            \"result\":res\n",
    "        })\n",
    "\n",
    "    except Exception as e:\n",
    "        return jsonify({\n",
    "            \"status\": \"error\",\n",
    "            \"message\": str(e)\n",
    "        })\n"
   ]
  },
  {
   "cell_type": "code",
   "execution_count": 8,
   "metadata": {
    "scrolled": false
   },
   "outputs": [
    {
     "name": "stdout",
     "output_type": "stream",
     "text": [
      " * Serving Flask app '__main__'\n",
      " * Debug mode: off\n"
     ]
    },
    {
     "name": "stderr",
     "output_type": "stream",
     "text": [
      "WARNING: This is a development server. Do not use it in a production deployment. Use a production WSGI server instead.\n",
      " * Running on all addresses (0.0.0.0)\n",
      " * Running on http://127.0.0.1:5000\n",
      " * Running on http://192.168.1.110:5000\n",
      "Press CTRL+C to quit\n"
     ]
    },
    {
     "name": "stdout",
     "output_type": "stream",
     "text": [
      "\n",
      "0: 640x416 1 person, 109.5ms\n",
      "Speed: 5.0ms preprocess, 109.5ms inference, 2.0ms postprocess per image at shape (1, 3, 640, 416)\n",
      "\n",
      "0: 640x224 1 person, 79.0ms\n",
      "Speed: 3.0ms preprocess, 79.0ms inference, 2.0ms postprocess per image at shape (1, 3, 640, 224)\n"
     ]
    },
    {
     "name": "stderr",
     "output_type": "stream",
     "text": [
      "127.0.0.1 - - [12/Jun/2025 17:38:48] \"POST /analyze HTTP/1.1\" 200 -\n"
     ]
    },
    {
     "name": "stdout",
     "output_type": "stream",
     "text": [
      "\n",
      "0: 640x416 1 person, 123.0ms\n",
      "Speed: 7.0ms preprocess, 123.0ms inference, 2.0ms postprocess per image at shape (1, 3, 640, 416)\n",
      "\n",
      "0: 640x224 1 person, 73.0ms\n",
      "Speed: 2.0ms preprocess, 73.0ms inference, 2.0ms postprocess per image at shape (1, 3, 640, 224)\n"
     ]
    },
    {
     "name": "stderr",
     "output_type": "stream",
     "text": [
      "127.0.0.1 - - [12/Jun/2025 17:39:48] \"POST /analyze HTTP/1.1\" 200 -\n"
     ]
    }
   ],
   "source": [
    "@app.route(\"/run\", methods=[\"GET\"])\n",
    "def health_check():\n",
    "    return jsonify({\"status\": \"API is running.\"})\n",
    "\n",
    "if __name__ == \"__main__\":\n",
    "    app.run(host=\"0.0.0.0\", port=5000)"
   ]
  },
  {
   "cell_type": "code",
   "execution_count": null,
   "metadata": {},
   "outputs": [],
   "source": []
  }
 ],
 "metadata": {
  "accelerator": "GPU",
  "colab": {
   "gpuType": "T4",
   "provenance": []
  },
  "kernelspec": {
   "display_name": "Python 3 (ipykernel)",
   "language": "python",
   "name": "python3"
  },
  "language_info": {
   "codemirror_mode": {
    "name": "ipython",
    "version": 3
   },
   "file_extension": ".py",
   "mimetype": "text/x-python",
   "name": "python",
   "nbconvert_exporter": "python",
   "pygments_lexer": "ipython3",
   "version": "3.10.9"
  }
 },
 "nbformat": 4,
 "nbformat_minor": 1
}
